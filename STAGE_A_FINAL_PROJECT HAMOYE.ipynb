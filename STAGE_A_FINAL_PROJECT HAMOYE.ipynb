{
 "cells": [
  {
   "cell_type": "markdown",
   "metadata": {},
   "source": [
    "# ELECTRICAL UTILITIES REPORT EXPLORATION #"
   ]
  },
  {
   "cell_type": "markdown",
   "metadata": {},
   "source": [
    "## Dataset Description ##\n",
    "The data in the dataset is provided by the Federal Energy Regulatory Commission of the US and it is the fuel quality data of various generating plants. The data reveals granular data on fuel burned, the cost per unit of fuel burned, power plant usage patterns of the years and so on."
   ]
  },
  {
   "cell_type": "markdown",
   "metadata": {},
   "source": [
    "### Power Plants ###\n",
    "Due to the numerous names of different power plants across the location, the power plants are not therefore in the data exploration below categorised based on names of power plants, but rather they are categorised based on their fuel type given in the dataset.\n",
    "\n",
    "##### The Dataset is called fuel_data #####"
   ]
  },
  {
   "cell_type": "code",
   "execution_count": 3,
   "metadata": {},
   "outputs": [],
   "source": [
    "# Import all relevant libraries\n",
    "import pandas as pd\n",
    "import numpy as np\n",
    "import matplotlib.pyplot as plt\n",
    "import seaborn as sns"
   ]
  },
  {
   "cell_type": "code",
   "execution_count": 4,
   "metadata": {},
   "outputs": [],
   "source": [
    "# Read data from the url given using pandas\n",
    "url =  \"https://raw.githubusercontent.com/WalePhenomenon/climate_change/master/fuel_ferc1.csv\"\n",
    "fuel_data = pd.read_csv(url)"
   ]
  },
  {
   "cell_type": "code",
   "execution_count": 5,
   "metadata": {},
   "outputs": [
    {
     "name": "stdout",
     "output_type": "stream",
     "text": [
      "<class 'pandas.core.frame.DataFrame'>\n",
      "RangeIndex: 29523 entries, 0 to 29522\n",
      "Data columns (total 11 columns):\n",
      " #   Column                        Non-Null Count  Dtype  \n",
      "---  ------                        --------------  -----  \n",
      " 0   record_id                     29523 non-null  object \n",
      " 1   utility_id_ferc1              29523 non-null  int64  \n",
      " 2   report_year                   29523 non-null  int64  \n",
      " 3   plant_name_ferc1              29523 non-null  object \n",
      " 4   fuel_type_code_pudl           29523 non-null  object \n",
      " 5   fuel_unit                     29343 non-null  object \n",
      " 6   fuel_qty_burned               29523 non-null  float64\n",
      " 7   fuel_mmbtu_per_unit           29523 non-null  float64\n",
      " 8   fuel_cost_per_unit_burned     29523 non-null  float64\n",
      " 9   fuel_cost_per_unit_delivered  29523 non-null  float64\n",
      " 10  fuel_cost_per_mmbtu           29523 non-null  float64\n",
      "dtypes: float64(5), int64(2), object(4)\n",
      "memory usage: 2.5+ MB\n"
     ]
    }
   ],
   "source": [
    "fuel_data.info() #Getting the information of the data"
   ]
  },
  {
   "cell_type": "markdown",
   "metadata": {},
   "source": [
    "From the information of the data provided above, we know that the dataset has 11 columns and 29523 rows with float, int and object data types.\n"
   ]
  },
  {
   "cell_type": "code",
   "execution_count": 5,
   "metadata": {},
   "outputs": [
    {
     "name": "stdout",
     "output_type": "stream",
     "text": [
      "                record_id  utility_id_ferc1  report_year  \\\n",
      "0   f1_fuel_1994_12_1_0_7                 1         1994   \n",
      "1  f1_fuel_1994_12_1_0_10                 1         1994   \n",
      "2   f1_fuel_1994_12_2_0_1                 2         1994   \n",
      "3   f1_fuel_1994_12_2_0_7                 2         1994   \n",
      "4  f1_fuel_1994_12_2_0_10                 2         1994   \n",
      "\n",
      "       plant_name_ferc1 fuel_type_code_pudl fuel_unit  fuel_qty_burned  \\\n",
      "0              rockport                coal       ton        5377489.0   \n",
      "1  rockport total plant                coal       ton       10486945.0   \n",
      "2                gorgas                coal       ton        2978683.0   \n",
      "3                 barry                coal       ton        3739484.0   \n",
      "4             chickasaw                 gas       mcf          40533.0   \n",
      "\n",
      "   fuel_mmbtu_per_unit  fuel_cost_per_unit_burned  \\\n",
      "0               16.590                      18.59   \n",
      "1               16.592                      18.58   \n",
      "2               24.130                      39.72   \n",
      "3               23.950                      47.21   \n",
      "4                1.000                       2.77   \n",
      "\n",
      "   fuel_cost_per_unit_delivered  fuel_cost_per_mmbtu  \n",
      "0                         18.53                1.121  \n",
      "1                         18.53                1.120  \n",
      "2                         38.12                1.650  \n",
      "3                         45.99                1.970  \n",
      "4                          2.77                2.570  \n"
     ]
    }
   ],
   "source": [
    "print(fuel_data.head()) #printing the first five rows"
   ]
  },
  {
   "cell_type": "markdown",
   "metadata": {},
   "source": [
    "For easy readability and to further help to easily navigate through the data provided, we will rename the columns of the dataset.\n"
   ]
  },
  {
   "cell_type": "code",
   "execution_count": 6,
   "metadata": {},
   "outputs": [
    {
     "data": {
      "text/html": [
       "<div>\n",
       "<style scoped>\n",
       "    .dataframe tbody tr th:only-of-type {\n",
       "        vertical-align: middle;\n",
       "    }\n",
       "\n",
       "    .dataframe tbody tr th {\n",
       "        vertical-align: top;\n",
       "    }\n",
       "\n",
       "    .dataframe thead th {\n",
       "        text-align: right;\n",
       "    }\n",
       "</style>\n",
       "<table border=\"1\" class=\"dataframe\">\n",
       "  <thead>\n",
       "    <tr style=\"text-align: right;\">\n",
       "      <th></th>\n",
       "      <th>record_id</th>\n",
       "      <th>UtilityID</th>\n",
       "      <th>Year</th>\n",
       "      <th>Plant Name</th>\n",
       "      <th>Fuel Type</th>\n",
       "      <th>Fuel Unit</th>\n",
       "      <th>Burned Fuel Qty</th>\n",
       "      <th>Energy per Unit(MMBTU)</th>\n",
       "      <th>Fuel Cost per Unit(Burned)</th>\n",
       "      <th>Fuel Cost per Unit(Delivered)</th>\n",
       "      <th>Fuel Cost per MMBTU</th>\n",
       "    </tr>\n",
       "  </thead>\n",
       "  <tbody>\n",
       "    <tr>\n",
       "      <th>0</th>\n",
       "      <td>f1_fuel_1994_12_1_0_7</td>\n",
       "      <td>1</td>\n",
       "      <td>1994</td>\n",
       "      <td>rockport</td>\n",
       "      <td>coal</td>\n",
       "      <td>ton</td>\n",
       "      <td>5377489.0</td>\n",
       "      <td>16.590</td>\n",
       "      <td>18.59</td>\n",
       "      <td>18.53</td>\n",
       "      <td>1.121</td>\n",
       "    </tr>\n",
       "    <tr>\n",
       "      <th>1</th>\n",
       "      <td>f1_fuel_1994_12_1_0_10</td>\n",
       "      <td>1</td>\n",
       "      <td>1994</td>\n",
       "      <td>rockport total plant</td>\n",
       "      <td>coal</td>\n",
       "      <td>ton</td>\n",
       "      <td>10486945.0</td>\n",
       "      <td>16.592</td>\n",
       "      <td>18.58</td>\n",
       "      <td>18.53</td>\n",
       "      <td>1.120</td>\n",
       "    </tr>\n",
       "    <tr>\n",
       "      <th>2</th>\n",
       "      <td>f1_fuel_1994_12_2_0_1</td>\n",
       "      <td>2</td>\n",
       "      <td>1994</td>\n",
       "      <td>gorgas</td>\n",
       "      <td>coal</td>\n",
       "      <td>ton</td>\n",
       "      <td>2978683.0</td>\n",
       "      <td>24.130</td>\n",
       "      <td>39.72</td>\n",
       "      <td>38.12</td>\n",
       "      <td>1.650</td>\n",
       "    </tr>\n",
       "    <tr>\n",
       "      <th>3</th>\n",
       "      <td>f1_fuel_1994_12_2_0_7</td>\n",
       "      <td>2</td>\n",
       "      <td>1994</td>\n",
       "      <td>barry</td>\n",
       "      <td>coal</td>\n",
       "      <td>ton</td>\n",
       "      <td>3739484.0</td>\n",
       "      <td>23.950</td>\n",
       "      <td>47.21</td>\n",
       "      <td>45.99</td>\n",
       "      <td>1.970</td>\n",
       "    </tr>\n",
       "    <tr>\n",
       "      <th>4</th>\n",
       "      <td>f1_fuel_1994_12_2_0_10</td>\n",
       "      <td>2</td>\n",
       "      <td>1994</td>\n",
       "      <td>chickasaw</td>\n",
       "      <td>gas</td>\n",
       "      <td>mcf</td>\n",
       "      <td>40533.0</td>\n",
       "      <td>1.000</td>\n",
       "      <td>2.77</td>\n",
       "      <td>2.77</td>\n",
       "      <td>2.570</td>\n",
       "    </tr>\n",
       "  </tbody>\n",
       "</table>\n",
       "</div>"
      ],
      "text/plain": [
       "                record_id  UtilityID  Year            Plant Name Fuel Type  \\\n",
       "0   f1_fuel_1994_12_1_0_7          1  1994              rockport      coal   \n",
       "1  f1_fuel_1994_12_1_0_10          1  1994  rockport total plant      coal   \n",
       "2   f1_fuel_1994_12_2_0_1          2  1994                gorgas      coal   \n",
       "3   f1_fuel_1994_12_2_0_7          2  1994                 barry      coal   \n",
       "4  f1_fuel_1994_12_2_0_10          2  1994             chickasaw       gas   \n",
       "\n",
       "  Fuel Unit  Burned Fuel Qty  Energy per Unit(MMBTU)  \\\n",
       "0       ton        5377489.0                  16.590   \n",
       "1       ton       10486945.0                  16.592   \n",
       "2       ton        2978683.0                  24.130   \n",
       "3       ton        3739484.0                  23.950   \n",
       "4       mcf          40533.0                   1.000   \n",
       "\n",
       "   Fuel Cost per Unit(Burned)  Fuel Cost per Unit(Delivered)  \\\n",
       "0                       18.59                          18.53   \n",
       "1                       18.58                          18.53   \n",
       "2                       39.72                          38.12   \n",
       "3                       47.21                          45.99   \n",
       "4                        2.77                           2.77   \n",
       "\n",
       "   Fuel Cost per MMBTU  \n",
       "0                1.121  \n",
       "1                1.120  \n",
       "2                1.650  \n",
       "3                1.970  \n",
       "4                2.570  "
      ]
     },
     "execution_count": 6,
     "metadata": {},
     "output_type": "execute_result"
    }
   ],
   "source": [
    "# Renaming the columns for  easy readability\n",
    "fuel_data = fuel_data.rename(columns = {\"utility_id_ferc1\": \"UtilityID\", \"report_year\": \"Year\",\n",
    "                          \"plant_name_ferc1\": \"Plant Name\", \"fuel_type_code_pudl\": \"Fuel Type\", \n",
    "                          \"fuel_unit\": \"Fuel Unit\", \"fuel_qty_burned\": \"Burned Fuel Qty\",\n",
    "                          \"fuel_mmbtu_per_unit\": \"Energy per Unit(MMBTU)\",\n",
    "                          \"fuel_cost_per_unit_burned\": \"Fuel Cost per Unit(Burned)\",\n",
    "                          \"fuel_cost_per_unit_delivered\": \"Fuel Cost per Unit(Delivered)\",\n",
    "                          \"fuel_cost_per_mmbtu\": \"Fuel Cost per MMBTU\"\n",
    "                         })\n",
    "fuel_data.head()"
   ]
  },
  {
   "cell_type": "code",
   "execution_count": 8,
   "metadata": {},
   "outputs": [
    {
     "name": "stdout",
     "output_type": "stream",
     "text": [
      "record_id                          0\n",
      "UtilityID                          0\n",
      "Year                               0\n",
      "Plant Name                         0\n",
      "Fuel Type                          0\n",
      "Fuel Unit                        180\n",
      "Burned Fuel Qty                    0\n",
      "Energy per Unit(MMBTU)             0\n",
      "Fuel Cost per Unit(Burned)         0\n",
      "Fuel Cost per Unit(Delivered)      0\n",
      "Fuel Cost per MMBTU                0\n",
      "dtype: int64\n"
     ]
    }
   ],
   "source": [
    "# Check for the sum of missing values in each column \n",
    "print(fuel_data.isnull().sum())"
   ]
  },
  {
   "cell_type": "code",
   "execution_count": 9,
   "metadata": {},
   "outputs": [
    {
     "name": "stdout",
     "output_type": "stream",
     "text": [
      "                     record_id  UtilityID  Year            Plant Name  \\\n",
      "0        f1_fuel_1994_12_1_0_7          1  1994              rockport   \n",
      "1       f1_fuel_1994_12_1_0_10          1  1994  rockport total plant   \n",
      "2        f1_fuel_1994_12_2_0_1          2  1994                gorgas   \n",
      "3        f1_fuel_1994_12_2_0_7          2  1994                 barry   \n",
      "4       f1_fuel_1994_12_2_0_10          2  1994             chickasaw   \n",
      "...                        ...        ...   ...                   ...   \n",
      "29518  f1_fuel_2018_12_12_0_13         12  2018    neil simpson ct #1   \n",
      "29519   f1_fuel_2018_12_12_1_1         12  2018  cheyenne prairie 58%   \n",
      "29520  f1_fuel_2018_12_12_1_10         12  2018     lange ct facility   \n",
      "29521  f1_fuel_2018_12_12_1_13         12  2018       wygen 3 bhp 52%   \n",
      "29522  f1_fuel_2018_12_12_1_14         12  2018       wygen 3 bhp 52%   \n",
      "\n",
      "      Fuel Type Fuel Unit  Burned Fuel Qty  Energy per Unit(MMBTU)  \\\n",
      "0          coal       ton        5377489.0                  16.590   \n",
      "1          coal       ton       10486945.0                  16.592   \n",
      "2          coal       ton        2978683.0                  24.130   \n",
      "3          coal       ton        3739484.0                  23.950   \n",
      "4           gas       mcf          40533.0                   1.000   \n",
      "...         ...       ...              ...                     ...   \n",
      "29518       gas       mcf          18799.0                   1.059   \n",
      "29519       gas       mcf         806730.0                   1.050   \n",
      "29520       gas       mcf         104554.0                   1.060   \n",
      "29521      coal       ton         315945.0                  16.108   \n",
      "29522       gas       mcf          17853.0                   1.059   \n",
      "\n",
      "       Fuel Cost per Unit(Burned)  Fuel Cost per Unit(Delivered)  \\\n",
      "0                           18.59                          18.53   \n",
      "1                           18.58                          18.53   \n",
      "2                           39.72                          38.12   \n",
      "3                           47.21                          45.99   \n",
      "4                            2.77                           2.77   \n",
      "...                           ...                            ...   \n",
      "29518                        4.78                           4.78   \n",
      "29519                        3.65                           3.65   \n",
      "29520                        4.77                           4.77   \n",
      "29521                        3.06                          14.76   \n",
      "29522                        0.00                           0.00   \n",
      "\n",
      "       Fuel Cost per MMBTU  \n",
      "0                    1.121  \n",
      "1                    1.120  \n",
      "2                    1.650  \n",
      "3                    1.970  \n",
      "4                    2.570  \n",
      "...                    ...  \n",
      "29518                9.030  \n",
      "29519                6.950  \n",
      "29520                8.990  \n",
      "29521                1.110  \n",
      "29522               11.680  \n",
      "\n",
      "[29343 rows x 11 columns]\n"
     ]
    }
   ],
   "source": [
    "# So far the missing datas are few and only can be found in a single column\n",
    "# We'll drop the missing data rows\n",
    "\n",
    "# to drop rows with missing values\n",
    "fuel_data.dropna(axis = 0, inplace = True)\n",
    "print(fuel_data)"
   ]
  },
  {
   "cell_type": "code",
   "execution_count": 10,
   "metadata": {},
   "outputs": [
    {
     "name": "stdout",
     "output_type": "stream",
     "text": [
      "record_id                        0\n",
      "UtilityID                        0\n",
      "Year                             0\n",
      "Plant Name                       0\n",
      "Fuel Type                        0\n",
      "Fuel Unit                        0\n",
      "Burned Fuel Qty                  0\n",
      "Energy per Unit(MMBTU)           0\n",
      "Fuel Cost per Unit(Burned)       0\n",
      "Fuel Cost per Unit(Delivered)    0\n",
      "Fuel Cost per MMBTU              0\n",
      "dtype: int64\n"
     ]
    }
   ],
   "source": [
    "# Check again for sum of missing values\n",
    "print(fuel_data.isnull().sum())"
   ]
  },
  {
   "cell_type": "code",
   "execution_count": 11,
   "metadata": {},
   "outputs": [
    {
     "name": "stdout",
     "output_type": "stream",
     "text": [
      "False\n"
     ]
    }
   ],
   "source": [
    "# Checking for duplicate rows\n",
    "print(fuel_data.duplicated().any())\n"
   ]
  },
  {
   "cell_type": "code",
   "execution_count": 13,
   "metadata": {},
   "outputs": [
    {
     "data": {
      "text/plain": [
       "(29343, 11)"
      ]
     },
     "execution_count": 13,
     "metadata": {},
     "output_type": "execute_result"
    }
   ],
   "source": [
    "fuel_data.shape #shape of the data shows the rows, columns"
   ]
  },
  {
   "cell_type": "code",
   "execution_count": 14,
   "metadata": {},
   "outputs": [
    {
     "data": {
      "text/html": [
       "<div>\n",
       "<style scoped>\n",
       "    .dataframe tbody tr th:only-of-type {\n",
       "        vertical-align: middle;\n",
       "    }\n",
       "\n",
       "    .dataframe tbody tr th {\n",
       "        vertical-align: top;\n",
       "    }\n",
       "\n",
       "    .dataframe thead th {\n",
       "        text-align: right;\n",
       "    }\n",
       "</style>\n",
       "<table border=\"1\" class=\"dataframe\">\n",
       "  <thead>\n",
       "    <tr style=\"text-align: right;\">\n",
       "      <th></th>\n",
       "      <th>UtilityID</th>\n",
       "      <th>Year</th>\n",
       "      <th>Burned Fuel Qty</th>\n",
       "      <th>Energy per Unit(MMBTU)</th>\n",
       "      <th>Fuel Cost per Unit(Burned)</th>\n",
       "      <th>Fuel Cost per Unit(Delivered)</th>\n",
       "      <th>Fuel Cost per MMBTU</th>\n",
       "    </tr>\n",
       "  </thead>\n",
       "  <tbody>\n",
       "    <tr>\n",
       "      <th>count</th>\n",
       "      <td>29343.000000</td>\n",
       "      <td>29343.000000</td>\n",
       "      <td>2.934300e+04</td>\n",
       "      <td>29343.000000</td>\n",
       "      <td>29343.000000</td>\n",
       "      <td>2.934300e+04</td>\n",
       "      <td>29343.000000</td>\n",
       "    </tr>\n",
       "    <tr>\n",
       "      <th>mean</th>\n",
       "      <td>118.507037</td>\n",
       "      <td>2005.819105</td>\n",
       "      <td>2.609171e+06</td>\n",
       "      <td>8.477481</td>\n",
       "      <td>209.756592</td>\n",
       "      <td>9.230343e+02</td>\n",
       "      <td>18.543975</td>\n",
       "    </tr>\n",
       "    <tr>\n",
       "      <th>std</th>\n",
       "      <td>74.241226</td>\n",
       "      <td>7.019855</td>\n",
       "      <td>8.798699e+06</td>\n",
       "      <td>10.537478</td>\n",
       "      <td>2863.194789</td>\n",
       "      <td>6.898652e+04</td>\n",
       "      <td>2097.367750</td>\n",
       "    </tr>\n",
       "    <tr>\n",
       "      <th>min</th>\n",
       "      <td>1.000000</td>\n",
       "      <td>1994.000000</td>\n",
       "      <td>1.000000e+00</td>\n",
       "      <td>0.000001</td>\n",
       "      <td>-276.080000</td>\n",
       "      <td>-8.749370e+02</td>\n",
       "      <td>-41.501000</td>\n",
       "    </tr>\n",
       "    <tr>\n",
       "      <th>25%</th>\n",
       "      <td>55.000000</td>\n",
       "      <td>2000.000000</td>\n",
       "      <td>1.375050e+04</td>\n",
       "      <td>1.024000</td>\n",
       "      <td>5.230000</td>\n",
       "      <td>3.793000e+00</td>\n",
       "      <td>1.950000</td>\n",
       "    </tr>\n",
       "    <tr>\n",
       "      <th>50%</th>\n",
       "      <td>122.000000</td>\n",
       "      <td>2006.000000</td>\n",
       "      <td>2.524640e+05</td>\n",
       "      <td>5.763072</td>\n",
       "      <td>26.039000</td>\n",
       "      <td>1.749000e+01</td>\n",
       "      <td>4.140000</td>\n",
       "    </tr>\n",
       "    <tr>\n",
       "      <th>75%</th>\n",
       "      <td>176.000000</td>\n",
       "      <td>2012.000000</td>\n",
       "      <td>1.424218e+06</td>\n",
       "      <td>17.000000</td>\n",
       "      <td>47.172000</td>\n",
       "      <td>4.220850e+01</td>\n",
       "      <td>7.752000</td>\n",
       "    </tr>\n",
       "    <tr>\n",
       "      <th>max</th>\n",
       "      <td>514.000000</td>\n",
       "      <td>2018.000000</td>\n",
       "      <td>5.558942e+08</td>\n",
       "      <td>341.260000</td>\n",
       "      <td>139358.000000</td>\n",
       "      <td>7.964521e+06</td>\n",
       "      <td>359278.000000</td>\n",
       "    </tr>\n",
       "  </tbody>\n",
       "</table>\n",
       "</div>"
      ],
      "text/plain": [
       "          UtilityID          Year  Burned Fuel Qty  Energy per Unit(MMBTU)  \\\n",
       "count  29343.000000  29343.000000     2.934300e+04            29343.000000   \n",
       "mean     118.507037   2005.819105     2.609171e+06                8.477481   \n",
       "std       74.241226      7.019855     8.798699e+06               10.537478   \n",
       "min        1.000000   1994.000000     1.000000e+00                0.000001   \n",
       "25%       55.000000   2000.000000     1.375050e+04                1.024000   \n",
       "50%      122.000000   2006.000000     2.524640e+05                5.763072   \n",
       "75%      176.000000   2012.000000     1.424218e+06               17.000000   \n",
       "max      514.000000   2018.000000     5.558942e+08              341.260000   \n",
       "\n",
       "       Fuel Cost per Unit(Burned)  Fuel Cost per Unit(Delivered)  \\\n",
       "count                29343.000000                   2.934300e+04   \n",
       "mean                   209.756592                   9.230343e+02   \n",
       "std                   2863.194789                   6.898652e+04   \n",
       "min                   -276.080000                  -8.749370e+02   \n",
       "25%                      5.230000                   3.793000e+00   \n",
       "50%                     26.039000                   1.749000e+01   \n",
       "75%                     47.172000                   4.220850e+01   \n",
       "max                 139358.000000                   7.964521e+06   \n",
       "\n",
       "       Fuel Cost per MMBTU  \n",
       "count         29343.000000  \n",
       "mean             18.543975  \n",
       "std            2097.367750  \n",
       "min             -41.501000  \n",
       "25%               1.950000  \n",
       "50%               4.140000  \n",
       "75%               7.752000  \n",
       "max          359278.000000  "
      ]
     },
     "execution_count": 14,
     "metadata": {},
     "output_type": "execute_result"
    }
   ],
   "source": [
    "fuel_data.describe()   #to totally describe the dataset statistically"
   ]
  },
  {
   "cell_type": "markdown",
   "metadata": {},
   "source": [
    "## Things to really focus on##\n",
    "The aim of the dataset is to know the impact of fuel ( using the fuel type) on the climate change due to the usage of fuel to generate electricity over the years. So therefore the following features are to be explored:\n",
    "\n",
    "#### Power Plant wrt their operating cost ###\n",
    "#### Impact of Fuel costs to the viability of different generation sources ####\n",
    "#### Highlight the competitiveness of renewable energy ####\n",
    "#### Show how general mix of different of different utilities evolved over time (i.e. Utility ID wrt Years) ####\n",
    "#### Explore quantity of fuel burned over the years (you can relate it to how it affects the global climate condition) (i.e. Burned fuel qty wrt Years) ####\n",
    "#### Explore Fuel Cost(Total) wrt Year to know the cost of fuel burned over the years####\n"
   ]
  },
  {
   "cell_type": "markdown",
   "metadata": {},
   "source": [
    "## Operating Costs of The Power Plants ##\n",
    "To determine the Operating costs of the plants, we'll do the following:\n",
    "1. Group the plants together based on their fuel type given in the dataset that is to say we won't use the individual names of the plants as they are numerous, instead we'll say: Oil Plants, Coal Plants, Waste Plants, etc.\n",
    "2. Know the fuel types\n",
    "3. Relate the fuel types to relevant features in the dataset\n",
    "4. Define Operating Cost\n",
    "\n",
    "NB: The major cost of running any electrical power plant is usually the cost of the fuel required to power the plant which is the total fuel burned cost in order to power the plant. \n",
    "Based on the dataset given, we will take the total fuel cost as our operating cost of the plant.\n",
    "\n",
    "##### Total Fuel Cost of the various plant is considered as the Operating Cost of the Plant ####"
   ]
  },
  {
   "cell_type": "code",
   "execution_count": 15,
   "metadata": {},
   "outputs": [
    {
     "data": {
      "text/plain": [
       "Plant Name\n",
       "(1)sta98                1\n",
       "(2) scriba sta. 99      1\n",
       "(n) contra costa        1\n",
       "(n) pittsburg           1\n",
       "(n)(t)moss landing      1\n",
       "                       ..\n",
       "zimmer- aepgr share     2\n",
       "zion                    3\n",
       "zorn                   12\n",
       "zorn ct                10\n",
       "zuni                   16\n",
       "Name: Plant Name, Length: 2307, dtype: int64"
      ]
     },
     "execution_count": 15,
     "metadata": {},
     "output_type": "execute_result"
    }
   ],
   "source": [
    "# taking a look at the numerous plant name\n",
    "fuel_data.groupby('Plant Name')['Plant Name'].count()"
   ]
  },
  {
   "cell_type": "markdown",
   "metadata": {},
   "source": [
    "The total number of various plant name is 2,307. This is so numerous and cannot be easily used to explore our data set, so we'll consider using the fuel type as a means of exploring our data set."
   ]
  },
  {
   "cell_type": "code",
   "execution_count": 17,
   "metadata": {},
   "outputs": [
    {
     "data": {
      "text/plain": [
       "Fuel Type\n",
       "coal        8496\n",
       "gas        11433\n",
       "nuclear      803\n",
       "oil         8043\n",
       "other        131\n",
       "waste        437\n",
       "Name: Fuel Type, dtype: int64"
      ]
     },
     "execution_count": 17,
     "metadata": {},
     "output_type": "execute_result"
    }
   ],
   "source": [
    "# Knowing the various fuel types in the dataset\n",
    "\n",
    "fuel_data.groupby('Fuel Type')['Fuel Type'].count()"
   ]
  },
  {
   "cell_type": "markdown",
   "metadata": {},
   "source": [
    "We have six categories of fuel type namely: Coal, Gas, Nuclear, Oil, Others and Waste.\n",
    "We'll make use of this fuel type and thus knowing that our various plant will be referred to as Coal Plants, Gas Plants, Nuclear Plants, Oil Plants, Others Plant and Waste Plants."
   ]
  },
  {
   "cell_type": "markdown",
   "metadata": {},
   "source": [
    "### Operating Cost also known as Fuel Cost(Total) ###\n",
    "Since our fuel cost(Total) is used as our operating cost.\n",
    "##### Fuel Cost(Total) = Burned Fuel Qty * Fuel Cost per Unit(Burned) #####\n",
    "We'll relate our Fuel Cost(Total) with respect to the Fuel type which is used as our means of categorising our various power plant in order to:\n",
    "#### Relate the Power Plants wrt Operating Cost/Fuel Cost(Total)####\n",
    "#### Know the impact of Fuel Cost(Total) on the viability of various generating sources ####\n",
    "\n",
    "### Fuel Cost(Total) is added to our dataset as a new feature ###\n"
   ]
  },
  {
   "cell_type": "code",
   "execution_count": 19,
   "metadata": {},
   "outputs": [
    {
     "name": "stdout",
     "output_type": "stream",
     "text": [
      "AxesSubplot(0.125,0.125;0.775x0.755)\n"
     ]
    },
    {
     "data": {
      "image/png": "[encoded data removed]",
      "text/plain": [
       "<Figure size 432x288 with 1 Axes>"
      ]
     },
     "metadata": {},
     "output_type": "display_data"
    }
   ],
   "source": [
    "# Comparing Fuel Cost per Unit(Burned) with respect to Fuel Type\n",
    "# Using a Bar Chart\n",
    "sns.set(style = \"darkgrid\")\n",
    "ax = sns.barplot(x = \"Fuel Type\", y = \"Fuel Cost per Unit(Burned)\", data = fuel_data)\n",
    "ax.set_yscale(\"log\")\n",
    "print(ax)\n"
   ]
  },
  {
   "cell_type": "markdown",
   "metadata": {},
   "source": [
    "From the above bar chat we can clearly see that fuel cost per unit burned for each of the plant varies, and the nuclear plants has the highest value followed by the oil plant, then the coal, other, waste and gas in descending order.\n",
    "Next we'll compare the amount of fuel burned i.e. Burned Fuel Qty.\n"
   ]
  },
  {
   "cell_type": "code",
   "execution_count": 21,
   "metadata": {},
   "outputs": [
    {
     "name": "stdout",
     "output_type": "stream",
     "text": [
      "AxesSubplot(0.125,0.125;0.775x0.755)\n"
     ]
    },
    {
     "data": {
      "image/png": "[encoded data removed]",
      "text/plain": [
       "<Figure size 432x288 with 1 Axes>"
      ]
     },
     "metadata": {},
     "output_type": "display_data"
    }
   ],
   "source": [
    "# Comparing Burned Fuel Qty with respect to the Fuel Type\n",
    "# Using a bar chart\n",
    "sns.set(style = \"darkgrid\")\n",
    "bx = sns.barplot(x = \"Fuel Type\", y = \"Burned Fuel Qty\", data = fuel_data)\n",
    "bx.set_yscale(\"log\")\n",
    "print(bx)"
   ]
  },
  {
   "cell_type": "markdown",
   "metadata": {},
   "source": [
    "From this bar chart, we can see that  the amount of fuel burned for nuclear is still the  highest followed by gas, coal, other, waste and oil respectively. \n",
    "We'll find the total fuel cost for each plant in the next cell.\n"
   ]
  },
  {
   "cell_type": "code",
   "execution_count": 23,
   "metadata": {},
   "outputs": [
    {
     "data": {
      "text/html": [
       "<div>\n",
       "<style scoped>\n",
       "    .dataframe tbody tr th:only-of-type {\n",
       "        vertical-align: middle;\n",
       "    }\n",
       "\n",
       "    .dataframe tbody tr th {\n",
       "        vertical-align: top;\n",
       "    }\n",
       "\n",
       "    .dataframe thead th {\n",
       "        text-align: right;\n",
       "    }\n",
       "</style>\n",
       "<table border=\"1\" class=\"dataframe\">\n",
       "  <thead>\n",
       "    <tr style=\"text-align: right;\">\n",
       "      <th></th>\n",
       "      <th>record_id</th>\n",
       "      <th>UtilityID</th>\n",
       "      <th>Year</th>\n",
       "      <th>Plant Name</th>\n",
       "      <th>Fuel Type</th>\n",
       "      <th>Fuel Unit</th>\n",
       "      <th>Burned Fuel Qty</th>\n",
       "      <th>Energy per Unit(MMBTU)</th>\n",
       "      <th>Fuel Cost per Unit(Burned)</th>\n",
       "      <th>Fuel Cost per Unit(Delivered)</th>\n",
       "      <th>Fuel Cost per MMBTU</th>\n",
       "      <th>Fuel Cost(Total)</th>\n",
       "    </tr>\n",
       "  </thead>\n",
       "  <tbody>\n",
       "    <tr>\n",
       "      <th>0</th>\n",
       "      <td>f1_fuel_1994_12_1_0_7</td>\n",
       "      <td>1</td>\n",
       "      <td>1994</td>\n",
       "      <td>rockport</td>\n",
       "      <td>coal</td>\n",
       "      <td>ton</td>\n",
       "      <td>5377489.0</td>\n",
       "      <td>16.590</td>\n",
       "      <td>18.59</td>\n",
       "      <td>18.53</td>\n",
       "      <td>1.121</td>\n",
       "      <td>9.996752e+07</td>\n",
       "    </tr>\n",
       "    <tr>\n",
       "      <th>1</th>\n",
       "      <td>f1_fuel_1994_12_1_0_10</td>\n",
       "      <td>1</td>\n",
       "      <td>1994</td>\n",
       "      <td>rockport total plant</td>\n",
       "      <td>coal</td>\n",
       "      <td>ton</td>\n",
       "      <td>10486945.0</td>\n",
       "      <td>16.592</td>\n",
       "      <td>18.58</td>\n",
       "      <td>18.53</td>\n",
       "      <td>1.120</td>\n",
       "      <td>1.948474e+08</td>\n",
       "    </tr>\n",
       "    <tr>\n",
       "      <th>2</th>\n",
       "      <td>f1_fuel_1994_12_2_0_1</td>\n",
       "      <td>2</td>\n",
       "      <td>1994</td>\n",
       "      <td>gorgas</td>\n",
       "      <td>coal</td>\n",
       "      <td>ton</td>\n",
       "      <td>2978683.0</td>\n",
       "      <td>24.130</td>\n",
       "      <td>39.72</td>\n",
       "      <td>38.12</td>\n",
       "      <td>1.650</td>\n",
       "      <td>1.183133e+08</td>\n",
       "    </tr>\n",
       "  </tbody>\n",
       "</table>\n",
       "</div>"
      ],
      "text/plain": [
       "                record_id  UtilityID  Year            Plant Name Fuel Type  \\\n",
       "0   f1_fuel_1994_12_1_0_7          1  1994              rockport      coal   \n",
       "1  f1_fuel_1994_12_1_0_10          1  1994  rockport total plant      coal   \n",
       "2   f1_fuel_1994_12_2_0_1          2  1994                gorgas      coal   \n",
       "\n",
       "  Fuel Unit  Burned Fuel Qty  Energy per Unit(MMBTU)  \\\n",
       "0       ton        5377489.0                  16.590   \n",
       "1       ton       10486945.0                  16.592   \n",
       "2       ton        2978683.0                  24.130   \n",
       "\n",
       "   Fuel Cost per Unit(Burned)  Fuel Cost per Unit(Delivered)  \\\n",
       "0                       18.59                          18.53   \n",
       "1                       18.58                          18.53   \n",
       "2                       39.72                          38.12   \n",
       "\n",
       "   Fuel Cost per MMBTU  Fuel Cost(Total)  \n",
       "0                1.121      9.996752e+07  \n",
       "1                1.120      1.948474e+08  \n",
       "2                1.650      1.183133e+08  "
      ]
     },
     "execution_count": 23,
     "metadata": {},
     "output_type": "execute_result"
    }
   ],
   "source": [
    "# Multiply the Burned Fuel Qty with the Fuel Cost per Unit(Burned)\n",
    "# Assign this product to a new column called Fuel Cost\n",
    "\n",
    "fuel_data[\"Fuel Cost(Total)\"] = fuel_data[\"Burned Fuel Qty\"] * fuel_data[\"Fuel Cost per Unit(Burned)\"]\n",
    "fuel_data.head(3)"
   ]
  },
  {
   "cell_type": "code",
   "execution_count": 24,
   "metadata": {},
   "outputs": [
    {
     "name": "stdout",
     "output_type": "stream",
     "text": [
      "AxesSubplot(0.125,0.125;0.775x0.755)\n"
     ]
    },
    {
     "data": {
      "image/png": "[encoded data removed]",
      "text/plain": [
       "<Figure size 432x288 with 1 Axes>"
      ]
     },
     "metadata": {},
     "output_type": "display_data"
    }
   ],
   "source": [
    "# Compare the Fuel Cost(Total) with the Generating plant based on their Fuel Type\n",
    "%matplotlib inline\n",
    "sns.set(style = \"darkgrid\")\n",
    "cx = sns.barplot(x = \"Fuel Type\", y = \"Fuel Cost(Total)\", data = fuel_data)\n",
    "cx.set_yscale(\"log\")\n",
    "print(cx)"
   ]
  },
  {
   "cell_type": "markdown",
   "metadata": {},
   "source": [
    "###### From the chart above we list plants based on their Fuel Cost(Total) which is their operating cost in descending order:######\n",
    "\n",
    "1. COAL PLANTS\n",
    "2. NUCLEAR PLANTS\n",
    "3. GAS PLANTS\n",
    "4. OIL PLANTS\n",
    "5. WASTE PLANTS\n",
    "6. OTHER PLANTS\n",
    "\n",
    "Due to the fact that the cost of running the coal, nuclear and gas plants are enormous, and due to their negative impact on the climate change based on emissions from greenhouse gases, these plants are not seemingly viable."
   ]
  },
  {
   "cell_type": "code",
   "execution_count": 18,
   "metadata": {},
   "outputs": [
    {
     "name": "stdout",
     "output_type": "stream",
     "text": [
      "AxesSubplot(0.125,0.125;0.775x0.755)\n"
     ]
    },
    {
     "data": {
      "image/png": "[encoded data removed]",
      "text/plain": [
       "<Figure size 432x288 with 1 Axes>"
      ]
     },
     "metadata": {
      "needs_background": "light"
     },
     "output_type": "display_data"
    }
   ],
   "source": [
    "# To Show how general mix of different of different utilities evolved over time \n",
    "# (i.e. Utility ID wrt Years)\n",
    "# We'll plot a line graph to see how the general utility fairs over the years\n",
    "# We'll make use of the utility ID\n",
    "dx = sns.lineplot(x = \"Year\", y = \"UtilityID\", ci = 0, color = \"blue\", data = fuel_data, marker = \"o\")\n",
    "print(dx)"
   ]
  },
  {
   "cell_type": "markdown",
   "metadata": {},
   "source": [
    "From the above, we can see that over the years, there has been a rise in the utility of plants based on their various utility identity."
   ]
  },
  {
   "cell_type": "code",
   "execution_count": 19,
   "metadata": {},
   "outputs": [
    {
     "data": {
      "image/png": "[encoded data removed]",
      "text/plain": [
       "<Figure size 432x288 with 1 Axes>"
      ]
     },
     "metadata": {
      "needs_background": "light"
     },
     "output_type": "display_data"
    }
   ],
   "source": [
    "# To show Burned Fuel Qty over the years\n",
    "ex = sns.lineplot(x = \"Year\", y = \"Burned Fuel Qty\", ci = 0, color = \"blue\", data = fuel_data, marker = \"o\")"
   ]
  },
  {
   "cell_type": "markdown",
   "metadata": {},
   "source": [
    "From the above graph we can see that there was a drop in the amount of Burned Fuel Qty between the years 2000 to 2015. And an increase came in the amount subsequently."
   ]
  },
  {
   "cell_type": "code",
   "execution_count": 25,
   "metadata": {},
   "outputs": [
    {
     "data": {
      "image/png": "[encoded data removed]",
      "text/plain": [
       "<Figure size 432x288 with 1 Axes>"
      ]
     },
     "metadata": {},
     "output_type": "display_data"
    }
   ],
   "source": [
    "# Comparison of Fuel Cost(Total) over the years.\n",
    "fx = sns.lineplot(x = \"Year\", y = \"Fuel Cost(Total)\", ci = 0, color = \"blue\", data = fuel_data, marker = \"o\")"
   ]
  },
  {
   "cell_type": "markdown",
   "metadata": {},
   "source": [
    "The Fuel Cost(Total) spiked around the years 2000, and 2010, then slide down in later years"
   ]
  },
  {
   "cell_type": "code",
   "execution_count": 11,
   "metadata": {},
   "outputs": [
    {
     "data": {
      "image/png": "[encoded data removed]",
      "text/plain": [
       "<Figure size 432x288 with 1 Axes>"
      ]
     },
     "metadata": {
      "needs_background": "light"
     },
     "output_type": "display_data"
    }
   ],
   "source": [
    "gx = sns.lineplot(x = \"Year\", y = \"Fuel Cost per Unit(Delivered)\", ci = 0, color = \"blue\", data = fuel_data, marker = \"o\")"
   ]
  },
  {
   "cell_type": "code",
   "execution_count": 12,
   "metadata": {},
   "outputs": [
    {
     "data": {
      "image/png": "[encoded data removed]",
      "text/plain": [
       "<Figure size 432x288 with 1 Axes>"
      ]
     },
     "metadata": {
      "needs_background": "light"
     },
     "output_type": "display_data"
    }
   ],
   "source": [
    "hx = sns.lineplot(x = \"Year\", y = \"Fuel Cost per Unit(Burned)\", ci = 0, color = \"blue\", data = fuel_data, marker = \"o\")"
   ]
  },
  {
   "cell_type": "code",
   "execution_count": null,
   "metadata": {},
   "outputs": [],
   "source": []
  },
  {
   "cell_type": "code",
   "execution_count": null,
   "metadata": {},
   "outputs": [],
   "source": []
  }
 ],
 "metadata": {
  "kernelspec": {
   "display_name": "Python 3",
   "language": "python",
   "name": "python3"
  },
  "language_info": {
   "codemirror_mode": {
    "name": "ipython",
    "version": 3
   },
   "file_extension": ".py",
   "mimetype": "text/x-python",
   "name": "python",
   "nbconvert_exporter": "python",
   "pygments_lexer": "ipython3",
   "version": "3.7.6"
  }
 },
 "nbformat": 4,
 "nbformat_minor": 4
}
